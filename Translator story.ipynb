{
 "cells": [
  {
   "cell_type": "code",
   "execution_count": 1,
   "id": "04d4faff",
   "metadata": {},
   "outputs": [
    {
     "name": "stderr",
     "output_type": "stream",
     "text": [
      "C:\\Users\\Weaam Shaaban\\anaconda3\\Lib\\site-packages\\transformers\\utils\\generic.py:260: UserWarning: torch.utils._pytree._register_pytree_node is deprecated. Please use torch.utils._pytree.register_pytree_node instead.\n",
      "  torch.utils._pytree._register_pytree_node(\n",
      "C:\\Users\\Weaam Shaaban\\anaconda3\\Lib\\site-packages\\transformers\\models\\marian\\tokenization_marian.py:194: UserWarning: Recommended: pip install sacremoses.\n",
      "  warnings.warn(\"Recommended: pip install sacremoses.\")\n"
     ]
    }
   ],
   "source": [
    "from transformers import pipeline\n",
    "import pandas as pd\n",
    "import numpy as np\n",
    "import time\n",
    "pipe = pipeline(\"translation\", model=\"Helsinki-NLP/opus-mt-en-ar\")\n"
   ]
  },
  {
   "cell_type": "code",
   "execution_count": 2,
   "id": "b8600647",
   "metadata": {},
   "outputs": [],
   "source": [
    "file1 = open(\"page-1.txt\", \"r+\" ,encoding='utf-8')"
   ]
  },
  {
   "cell_type": "code",
   "execution_count": 3,
   "id": "f62c13da",
   "metadata": {},
   "outputs": [],
   "source": [
    "page_1 = file1.readlines()"
   ]
  },
  {
   "cell_type": "code",
   "execution_count": 4,
   "id": "83114a9c",
   "metadata": {},
   "outputs": [
    {
     "name": "stderr",
     "output_type": "stream",
     "text": [
      "Your input_length: 476 is bigger than 0.9 * max_length: 512. You might consider increasing your max_length manually, e.g. translator('...', max_length=400)\n"
     ]
    }
   ],
   "source": [
    "lst_of_en_sent = []\n",
    "lst_of_ar_sent = []\n",
    "lst_of_time = []\n",
    "for i in range(0, len(page_1)):\n",
    "    lst_of_en_sent.append(str(page_1[i]))\n",
    "    start_time = time.time()\n",
    "    lst_of_ar_sent.append(pipe(page_1[i]))\n",
    "    lst_of_time.append(str(np.round((time.time() - start_time), decimals=2)))\n",
    "     \n",
    "    \n",
    "    \n",
    "                    "
   ]
  },
  {
   "cell_type": "code",
   "execution_count": 5,
   "id": "4944f249",
   "metadata": {},
   "outputs": [],
   "source": [
    "df = pd.DataFrame({\"English\":lst_of_en_sent, \"Arabic\":lst_of_ar_sent, \"time/m.s\":lst_of_time})"
   ]
  },
  {
   "cell_type": "code",
   "execution_count": 6,
   "id": "db63b9cf",
   "metadata": {},
   "outputs": [
    {
     "data": {
      "text/html": [
       "<div>\n",
       "<style scoped>\n",
       "    .dataframe tbody tr th:only-of-type {\n",
       "        vertical-align: middle;\n",
       "    }\n",
       "\n",
       "    .dataframe tbody tr th {\n",
       "        vertical-align: top;\n",
       "    }\n",
       "\n",
       "    .dataframe thead th {\n",
       "        text-align: right;\n",
       "    }\n",
       "</style>\n",
       "<table border=\"1\" class=\"dataframe\">\n",
       "  <thead>\n",
       "    <tr style=\"text-align: right;\">\n",
       "      <th></th>\n",
       "      <th>English</th>\n",
       "      <th>Arabic</th>\n",
       "      <th>time/m.s</th>\n",
       "    </tr>\n",
       "  </thead>\n",
       "  <tbody>\n",
       "    <tr>\n",
       "      <th>0</th>\n",
       "      <td>It was the best of times, it was the worst of ...</td>\n",
       "      <td>[{'translation_text': 'لقد كان أفضل الأوقات، ك...</td>\n",
       "      <td>2.87</td>\n",
       "    </tr>\n",
       "    <tr>\n",
       "      <th>1</th>\n",
       "      <td>\\n</td>\n",
       "      <td>[{'translation_text': 'ألف - الوظائف الممولة م...</td>\n",
       "      <td>0.24</td>\n",
       "    </tr>\n",
       "    <tr>\n",
       "      <th>2</th>\n",
       "      <td>There were a king with a large jaw and a queen...</td>\n",
       "      <td>[{'translation_text': 'وكان هناك ملك بفك كبير ...</td>\n",
       "      <td>2.02</td>\n",
       "    </tr>\n",
       "    <tr>\n",
       "      <th>3</th>\n",
       "      <td>\\n</td>\n",
       "      <td>[{'translation_text': 'ألف - الوظائف الممولة م...</td>\n",
       "      <td>0.31</td>\n",
       "    </tr>\n",
       "    <tr>\n",
       "      <th>4</th>\n",
       "      <td>It was the year of Our Lord one thousand seven...</td>\n",
       "      <td>[{'translation_text': 'لقد كانت سنة ملكنا الوا...</td>\n",
       "      <td>5.82</td>\n",
       "    </tr>\n",
       "    <tr>\n",
       "      <th>...</th>\n",
       "      <td>...</td>\n",
       "      <td>...</td>\n",
       "      <td>...</td>\n",
       "    </tr>\n",
       "    <tr>\n",
       "      <th>195</th>\n",
       "      <td>\\n</td>\n",
       "      <td>[{'translation_text': 'ألف - الوظائف الممولة م...</td>\n",
       "      <td>0.28</td>\n",
       "    </tr>\n",
       "    <tr>\n",
       "      <th>196</th>\n",
       "      <td>“You had abandoned all hope of being dug out?”\\n</td>\n",
       "      <td>[{'translation_text': '\"لقد تخليت عن كل أمل في...</td>\n",
       "      <td>0.54</td>\n",
       "    </tr>\n",
       "    <tr>\n",
       "      <th>197</th>\n",
       "      <td>\\n</td>\n",
       "      <td>[{'translation_text': 'ألف - الوظائف الممولة م...</td>\n",
       "      <td>0.27</td>\n",
       "    </tr>\n",
       "    <tr>\n",
       "      <th>198</th>\n",
       "      <td>“Long ago.”\\n</td>\n",
       "      <td>[{'translation_text': '\" في الماضي \" .'}]</td>\n",
       "      <td>0.33</td>\n",
       "    </tr>\n",
       "    <tr>\n",
       "      <th>199</th>\n",
       "      <td>\\n</td>\n",
       "      <td>[{'translation_text': 'ألف - الوظائف الممولة م...</td>\n",
       "      <td>0.25</td>\n",
       "    </tr>\n",
       "  </tbody>\n",
       "</table>\n",
       "<p>200 rows × 3 columns</p>\n",
       "</div>"
      ],
      "text/plain": [
       "                                               English  \\\n",
       "0    It was the best of times, it was the worst of ...   \n",
       "1                                                   \\n   \n",
       "2    There were a king with a large jaw and a queen...   \n",
       "3                                                   \\n   \n",
       "4    It was the year of Our Lord one thousand seven...   \n",
       "..                                                 ...   \n",
       "195                                                 \\n   \n",
       "196   “You had abandoned all hope of being dug out?”\\n   \n",
       "197                                                 \\n   \n",
       "198                                      “Long ago.”\\n   \n",
       "199                                                 \\n   \n",
       "\n",
       "                                                Arabic time/m.s  \n",
       "0    [{'translation_text': 'لقد كان أفضل الأوقات، ك...     2.87  \n",
       "1    [{'translation_text': 'ألف - الوظائف الممولة م...     0.24  \n",
       "2    [{'translation_text': 'وكان هناك ملك بفك كبير ...     2.02  \n",
       "3    [{'translation_text': 'ألف - الوظائف الممولة م...     0.31  \n",
       "4    [{'translation_text': 'لقد كانت سنة ملكنا الوا...     5.82  \n",
       "..                                                 ...      ...  \n",
       "195  [{'translation_text': 'ألف - الوظائف الممولة م...     0.28  \n",
       "196  [{'translation_text': '\"لقد تخليت عن كل أمل في...     0.54  \n",
       "197  [{'translation_text': 'ألف - الوظائف الممولة م...     0.27  \n",
       "198          [{'translation_text': '\" في الماضي \" .'}]     0.33  \n",
       "199  [{'translation_text': 'ألف - الوظائف الممولة م...     0.25  \n",
       "\n",
       "[200 rows x 3 columns]"
      ]
     },
     "execution_count": 6,
     "metadata": {},
     "output_type": "execute_result"
    }
   ],
   "source": [
    "df[:200]"
   ]
  },
  {
   "cell_type": "code",
   "execution_count": 9,
   "id": "fc479650",
   "metadata": {},
   "outputs": [],
   "source": [
    "df.to_csv(\"~\\Downloads\\story.csv\", sep='\\t')"
   ]
  },
  {
   "cell_type": "code",
   "execution_count": null,
   "id": "eda40227",
   "metadata": {},
   "outputs": [],
   "source": []
  }
 ],
 "metadata": {
  "kernelspec": {
   "display_name": "Python 3 (ipykernel)",
   "language": "python",
   "name": "python3"
  },
  "language_info": {
   "codemirror_mode": {
    "name": "ipython",
    "version": 3
   },
   "file_extension": ".py",
   "mimetype": "text/x-python",
   "name": "python",
   "nbconvert_exporter": "python",
   "pygments_lexer": "ipython3",
   "version": "3.11.5"
  }
 },
 "nbformat": 4,
 "nbformat_minor": 5
}
